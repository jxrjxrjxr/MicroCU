{
 "cells": [
  {
   "cell_type": "code",
   "execution_count": 1,
   "metadata": {
    "ExecuteTime": {
     "end_time": "2022-05-25T10:18:59.081103Z",
     "start_time": "2022-05-25T10:18:57.526398Z"
    }
   },
   "outputs": [],
   "source": [
    "from params.load_params import loadConfig, dumpConfig\n",
    "from data.load_data import loadData\n",
    "from data.mask_data import maskData, printMissingRate\n",
    "from data.fill_data import fillData\n",
    "from data.clip_data import clipData\n",
    "from algo.granger_causal import grangerCausal\n",
    "from algo.build_graph import buildGraph\n",
    "from algo.analyze_root import analyzeRootABC, analyzeRootDyCause\n",
    "from dutils.metric import displayRes\n",
    "from algo.rank_node import scoreNorm, printNode\n",
    "from methods.micro_ci import rcaMicroCI\n",
    "from methods.dy_cause import rcaDyCause\n",
    "from methods.monitor_rank import rcaMonitorRank\n",
    "from methods.cloud_ranger import rcaCloudRanger\n",
    "from dutils.expr_utils import createExpr, list2csv, saveMask, adjustRate\n",
    "import pandas as pd\n",
    "import numpy as np\n",
    "from tqdm import tqdm\n",
    "import os\n",
    "import time\n",
    "\n",
    "import warnings\n",
    "warnings.filterwarnings('ignore')"
   ]
  },
  {
   "cell_type": "code",
   "execution_count": 2,
   "metadata": {
    "ExecuteTime": {
     "end_time": "2022-05-25T10:19:04.940420Z",
     "start_time": "2022-05-25T10:19:04.882552Z"
    }
   },
   "outputs": [],
   "source": [
    "%reload_ext autoreload\n",
    "%autoreload 2"
   ]
  },
  {
   "cell_type": "code",
   "execution_count": null,
   "metadata": {
    "ExecuteTime": {
     "start_time": "2022-05-25T10:21:06.549Z"
    }
   },
   "outputs": [
    {
     "name": "stdout",
     "output_type": "stream",
     "text": [
      "--Return--\n",
      "None\n",
      "> \u001b[0;32m/tmp/ipykernel_23294/2766638392.py\u001b[0m(25)\u001b[0;36m<module>\u001b[0;34m()\u001b[0m\n",
      "\u001b[0;32m     23 \u001b[0;31m\u001b[0malgoTime\u001b[0m \u001b[0;34m=\u001b[0m \u001b[0;34m{\u001b[0m\u001b[0;34m}\u001b[0m\u001b[0;34m\u001b[0m\u001b[0;34m\u001b[0m\u001b[0m\n",
      "\u001b[0m\u001b[0;32m     24 \u001b[0;31m\u001b[0;34m\u001b[0m\u001b[0m\n",
      "\u001b[0m\u001b[0;32m---> 25 \u001b[0;31m\u001b[0;32mimport\u001b[0m \u001b[0mpdb\u001b[0m\u001b[0;34m;\u001b[0m \u001b[0mpdb\u001b[0m\u001b[0;34m.\u001b[0m\u001b[0mset_trace\u001b[0m\u001b[0;34m(\u001b[0m\u001b[0;34m)\u001b[0m\u001b[0;34m;\u001b[0m\u001b[0;34m\u001b[0m\u001b[0;34m\u001b[0m\u001b[0m\n",
      "\u001b[0m\u001b[0;32m     26 \u001b[0;31m\u001b[0;34m\u001b[0m\u001b[0m\n",
      "\u001b[0m\u001b[0;32m     27 \u001b[0;31m\u001b[0;32mfor\u001b[0m \u001b[0mloop\u001b[0m \u001b[0;32min\u001b[0m \u001b[0mtqdm\u001b[0m\u001b[0;34m(\u001b[0m\u001b[0mrange\u001b[0m\u001b[0;34m(\u001b[0m\u001b[0mtimes\u001b[0m\u001b[0;34m)\u001b[0m\u001b[0;34m)\u001b[0m\u001b[0;34m:\u001b[0m\u001b[0;34m\u001b[0m\u001b[0;34m\u001b[0m\u001b[0m\n",
      "\u001b[0m\n",
      "ipdb> config\n",
      "{'Data params': {'data_source': 'ibm_micro_service', 'aggre_delta': 1, 'start_time': 4653, 'before_length': 300, 'after_length': 300, 'sample_rate': 1.0, 'maskMode': 'real', 'useNewMask': True, 'saveNewMask': True, 'zeroFillMethod': 'prevlatter', 'varNum': 33}, 'Granger params': {'step': 70, 'significant_thres': 0.1, 'lag': 5, 'method': 'fast_version_3', 'trip': -1, 'simu_real': 'simu', 'auto_threshold_ratio': 0.5, 'runtime_debug': True, 'curveInterpolation': True, 'saveLocalResult': True}, 'rw params': {'testrun_round': 1, 'frontend': 14, 'true_root_cause': [6, 28, 30, 31], 'max_path_length': None, 'mean_method': 'harmonic', 'topk_path': 50, 'num_sel_node': 3, 'prob_thres': 0.2, 'sortPeak': True, 'rate': 3}, 'Debug params': {'verbose': True, 'drawCurveVerbose': False, 'dirOutput': 'results/300-300-1.0-0.5-70-0525.1021.0205'}, 'PC params': {'pc_aggregate': 6, 'pc_alpha': 0.1}}\n",
      "ipdb> rData.shape\n",
      "(7199, 33)\n"
     ]
    }
   ],
   "source": [
    "times = 10\n",
    "saveRes = True\n",
    "methodName = ['MonitorRank',\n",
    "              'CloudRanger',\n",
    "              'DyCause+linear',\n",
    "              'DyCause+prla',\n",
    "              'DyCause+BPMF',\n",
    "              'MicroCI4:1',\n",
    "              'MicroCI3:1',\n",
    "              'MicroCI2:1',\n",
    "              'MicroCI1:1',\n",
    "              'MicroCI1:2',\n",
    "              'MicroCI1:3']\n",
    "exprDir, results = createExpr(methodName, times, saveRes=saveRes)\n",
    "tempDir = os.path.join(\".\", \"results\", \"tempExpr\")\n",
    "\n",
    "config = loadConfig()\n",
    "if saveRes:\n",
    "    dumpConfig(config, exprDir)\n",
    "else:\n",
    "    dumpConfig(config, tempDir)\n",
    "rData, _head = loadData(config)\n",
    "algoTime = {}\n",
    "\n",
    "import pdb; pdb.set_trace();\n",
    "\n",
    "for loop in tqdm(range(times)):\n",
    "    methodNum = 0\n",
    "    mData, _mask = maskData(rData, config)\n",
    "    import pdb; pdb.set_trace();\n",
    "    if saveRes:\n",
    "        saveMask(_mask, exprDir, loop)\n",
    "    cData, _cMask = clipData(mData, _mask, config)\n",
    "    curTime = time.time()\n",
    "    # MonitorRank\n",
    "    mMR, _mrInfo = rcaMonitorRank(cData, _head, config)\n",
    "    if not loop:\n",
    "        algoTime[methodName[methodNum]] = time.time() - curTime\n",
    "        curTime = time.time()\n",
    "        methodNum += 1\n",
    "    # CloudRanger\n",
    "    mCR, _crInfo = rcaMonitorRank(cData, _head, config)\n",
    "    if not loop:\n",
    "        algoTime[methodName[methodNum]] = time.time() - curTime\n",
    "        curTime = time.time()\n",
    "        methodNum += 1\n",
    "    # DyCause+linear\n",
    "    config[\"Data params\"][\"zeroFillMethod\"] = \"linear\"\n",
    "    mlDyCause, _ldInfo = rcaDyCause(cData, _head, config)\n",
    "    if not loop:\n",
    "        algoTime[methodName[methodNum]] = time.time() - curTime\n",
    "        curTime = time.time()\n",
    "        methodNum += 1\n",
    "    # DyCause+prla\n",
    "    config[\"Data params\"][\"zeroFillMethod\"] = \"prevlatter\"\n",
    "    mDyCause, _dInfo = rcaDyCause(cData, _head, config)\n",
    "    if not loop:\n",
    "        algoTime[methodName[methodNum]] = time.time() - curTime\n",
    "        curTime = time.time()\n",
    "        methodNum += 1\n",
    "    # DyCause+BPMF\n",
    "    config[\"Data params\"][\"zeroFillMethod\"] = \"BPMF\"\n",
    "    mpDyCause, _pdInfo = rcaDyCause(cData, _head, config)\n",
    "    if not loop:\n",
    "        algoTime[methodName[methodNum]] = time.time() - curTime\n",
    "        curTime = time.time()\n",
    "        methodNum += 1\n",
    "    # MicroCI4:1\n",
    "    config[\"Data params\"][\"zeroFillMethod\"] = \"prevlatter\"\n",
    "    config[\"rw params\"][\"rate\"] = 4\n",
    "    m41MicroCI, _mInfo = rcaMicroCI(cData, _head, config)\n",
    "    if not loop:\n",
    "        algoTime[methodName[methodNum]] = time.time() - curTime\n",
    "        curTime = time.time()\n",
    "        methodNum += 1\n",
    "    # MicroCI3:1\n",
    "    config[\"rw params\"][\"rate\"] = 3\n",
    "    m31MicroCI = adjustRate(_mInfo[0], config)\n",
    "    # MicroCI2:1\n",
    "    config[\"rw params\"][\"rate\"] = 2\n",
    "    m21MicroCI = adjustRate(_mInfo[0], config)\n",
    "    # MicroCI1:1\n",
    "    config[\"rw params\"][\"rate\"] = 1\n",
    "    m11MicroCI = adjustRate(_mInfo[0], config)\n",
    "    # MicroCI1:2\n",
    "    config[\"rw params\"][\"rate\"] = 0.5\n",
    "    m12MicroCI = adjustRate(_mInfo[0], config)\n",
    "    # MicroCI1:3\n",
    "    config[\"rw params\"][\"rate\"] = 0.3333\n",
    "    m13MicroCI = adjustRate(_mInfo[0], config)\n",
    "    \n",
    "    curRes = list2csv([mMR,\n",
    "                       mCR,\n",
    "                       mlDyCause,\n",
    "                       mDyCause,\n",
    "                       mpDyCause,\n",
    "                       m41MicroCI,\n",
    "                       m31MicroCI,\n",
    "                       m21MicroCI,\n",
    "                       m11MicroCI,\n",
    "                       m12MicroCI,\n",
    "                       m13MicroCI])\n",
    "    if saveRes:\n",
    "        curRes.to_csv(os.path.join(exprDir, 'res{:02d}.csv'.format(loop)))\n",
    "    else:\n",
    "        curRes.to_csv(os.path.join(tempDir, 'res{:02d}.csv'.format(loop)))\n",
    "    results = pd.DataFrame(curRes.values + results.values, columns=results.columns, index=results.index)\n",
    "    if not loop:\n",
    "        for key in algoTime:\n",
    "            print(\"{} : {:.3f}s\".format(key, algoTime[key]))\n",
    "results /= times\n",
    "if saveRes:\n",
    "    results.to_csv(os.path.join(exprDir, 'results.csv'))\n",
    "else:\n",
    "    results.to_csv(os.path.join(tempDir, 'results.csv'))"
   ]
  },
  {
   "cell_type": "code",
   "execution_count": null,
   "metadata": {},
   "outputs": [],
   "source": []
  }
 ],
 "metadata": {
  "kernelspec": {
   "display_name": "Python [conda env:microcu]",
   "language": "python",
   "name": "microcu"
  },
  "language_info": {
   "codemirror_mode": {
    "name": "ipython",
    "version": 3
   },
   "file_extension": ".py",
   "mimetype": "text/x-python",
   "name": "python",
   "nbconvert_exporter": "python",
   "pygments_lexer": "ipython3",
   "version": "3.7.13"
  },
  "toc": {
   "base_numbering": 1,
   "nav_menu": {},
   "number_sections": false,
   "sideBar": true,
   "skip_h1_title": false,
   "title_cell": "Table of Contents",
   "title_sidebar": "Contents",
   "toc_cell": false,
   "toc_position": {},
   "toc_section_display": true,
   "toc_window_display": false
  },
  "varInspector": {
   "cols": {
    "lenName": 16,
    "lenType": 16,
    "lenVar": 40
   },
   "kernels_config": {
    "python": {
     "delete_cmd_postfix": "",
     "delete_cmd_prefix": "del ",
     "library": "var_list.py",
     "varRefreshCmd": "print(var_dic_list())"
    },
    "r": {
     "delete_cmd_postfix": ") ",
     "delete_cmd_prefix": "rm(",
     "library": "var_list.r",
     "varRefreshCmd": "cat(var_dic_list()) "
    }
   },
   "types_to_exclude": [
    "module",
    "function",
    "builtin_function_or_method",
    "instance",
    "_Feature"
   ],
   "window_display": false
  }
 },
 "nbformat": 4,
 "nbformat_minor": 4
}
