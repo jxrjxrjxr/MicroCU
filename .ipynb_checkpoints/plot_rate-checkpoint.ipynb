{
 "cells": [
  {
   "cell_type": "code",
   "execution_count": 1,
   "id": "3f30e537-7425-4712-b630-b320826a0680",
   "metadata": {},
   "outputs": [],
   "source": [
    "import os\n",
    "import pandas as pd\n",
    "from dutils.plot_chart import plotBar"
   ]
  },
  {
   "cell_type": "code",
   "execution_count": 2,
   "id": "4b34ef9f-fbd5-4276-add3-f942f827aa1b",
   "metadata": {},
   "outputs": [],
   "source": [
    "%reload_ext autoreload\n",
    "%autoreload 2"
   ]
  },
  {
   "cell_type": "code",
   "execution_count": 11,
   "id": "bbad3531-8d49-4ae1-9a22-2a9ffb5f503c",
   "metadata": {},
   "outputs": [
    {
     "data": {
      "image/png": "[encoded data removed]",
      "text/plain": [
       "<Figure size 432x288 with 1 Axes>"
      ]
     },
     "metadata": {
      "needs_background": "light"
     },
     "output_type": "display_data"
    }
   ],
   "source": [
    "p = 0.2\n",
    "exprDir = os.path.join(\".\", \"results\", \"select-rate={}\".format(p))\n",
    "results = pd.read_csv(os.path.join(exprDir, \"results.csv\"))\n",
    "resNpy = results.to_numpy()\n",
    "sel = resNpy[10:4:-1, 6:8].astype(float).round(3)\n",
    "labels = [\"1:3\", \"1:2\", \"1:1\", \"2:1\", \"3:1\", \"4:1\"]\n",
    "plotBar(labels, sel[:, 0], sel[:, 1], p)"
   ]
  },
  {
   "cell_type": "code",
   "execution_count": 10,
   "id": "4e59b573-6ae6-48d7-a5e9-1865505f7db7",
   "metadata": {},
   "outputs": [
    {
     "data": {
      "text/html": [
       "<div>\n",
       "<style scoped>\n",
       "    .dataframe tbody tr th:only-of-type {\n",
       "        vertical-align: middle;\n",
       "    }\n",
       "\n",
       "    .dataframe tbody tr th {\n",
       "        vertical-align: top;\n",
       "    }\n",
       "\n",
       "    .dataframe thead th {\n",
       "        text-align: right;\n",
       "    }\n",
       "</style>\n",
       "<table border=\"1\" class=\"dataframe\">\n",
       "  <thead>\n",
       "    <tr style=\"text-align: right;\">\n",
       "      <th></th>\n",
       "      <th>Unnamed: 0</th>\n",
       "      <th>PR@1</th>\n",
       "      <th>PR@2</th>\n",
       "      <th>PR@3</th>\n",
       "      <th>PR@4</th>\n",
       "      <th>PR@5</th>\n",
       "      <th>PR@avg</th>\n",
       "      <th>Acc</th>\n",
       "    </tr>\n",
       "  </thead>\n",
       "  <tbody>\n",
       "    <tr>\n",
       "      <th>0</th>\n",
       "      <td>MonitorRank</td>\n",
       "      <td>0.10</td>\n",
       "      <td>0.175</td>\n",
       "      <td>0.200000</td>\n",
       "      <td>0.1750</td>\n",
       "      <td>0.2250</td>\n",
       "      <td>0.175000</td>\n",
       "      <td>0.633333</td>\n",
       "    </tr>\n",
       "    <tr>\n",
       "      <th>1</th>\n",
       "      <td>CloudRanger</td>\n",
       "      <td>0.05</td>\n",
       "      <td>0.125</td>\n",
       "      <td>0.216667</td>\n",
       "      <td>0.1750</td>\n",
       "      <td>0.2250</td>\n",
       "      <td>0.158333</td>\n",
       "      <td>0.632955</td>\n",
       "    </tr>\n",
       "    <tr>\n",
       "      <th>2</th>\n",
       "      <td>DyCause+linear</td>\n",
       "      <td>0.15</td>\n",
       "      <td>0.325</td>\n",
       "      <td>0.500000</td>\n",
       "      <td>0.4625</td>\n",
       "      <td>0.5000</td>\n",
       "      <td>0.387500</td>\n",
       "      <td>0.544697</td>\n",
       "    </tr>\n",
       "    <tr>\n",
       "      <th>3</th>\n",
       "      <td>DyCause+prla</td>\n",
       "      <td>0.10</td>\n",
       "      <td>0.250</td>\n",
       "      <td>0.466667</td>\n",
       "      <td>0.5000</td>\n",
       "      <td>0.6250</td>\n",
       "      <td>0.388333</td>\n",
       "      <td>0.656061</td>\n",
       "    </tr>\n",
       "    <tr>\n",
       "      <th>4</th>\n",
       "      <td>DyCause+BPMF</td>\n",
       "      <td>0.40</td>\n",
       "      <td>0.425</td>\n",
       "      <td>0.400000</td>\n",
       "      <td>0.3500</td>\n",
       "      <td>0.3625</td>\n",
       "      <td>0.387500</td>\n",
       "      <td>0.408333</td>\n",
       "    </tr>\n",
       "    <tr>\n",
       "      <th>5</th>\n",
       "      <td>MicroCI4:1</td>\n",
       "      <td>0.20</td>\n",
       "      <td>0.250</td>\n",
       "      <td>0.333333</td>\n",
       "      <td>0.4000</td>\n",
       "      <td>0.5250</td>\n",
       "      <td>0.341667</td>\n",
       "      <td>0.686364</td>\n",
       "    </tr>\n",
       "    <tr>\n",
       "      <th>6</th>\n",
       "      <td>MicroCI3:1</td>\n",
       "      <td>0.10</td>\n",
       "      <td>0.300</td>\n",
       "      <td>0.383333</td>\n",
       "      <td>0.4125</td>\n",
       "      <td>0.5750</td>\n",
       "      <td>0.354167</td>\n",
       "      <td>0.692803</td>\n",
       "    </tr>\n",
       "    <tr>\n",
       "      <th>7</th>\n",
       "      <td>MicroCI2:1</td>\n",
       "      <td>0.10</td>\n",
       "      <td>0.325</td>\n",
       "      <td>0.416667</td>\n",
       "      <td>0.4625</td>\n",
       "      <td>0.6125</td>\n",
       "      <td>0.383333</td>\n",
       "      <td>0.699621</td>\n",
       "    </tr>\n",
       "    <tr>\n",
       "      <th>8</th>\n",
       "      <td>MicroCI1:1</td>\n",
       "      <td>0.15</td>\n",
       "      <td>0.400</td>\n",
       "      <td>0.516667</td>\n",
       "      <td>0.5125</td>\n",
       "      <td>0.6500</td>\n",
       "      <td>0.445833</td>\n",
       "      <td>0.703788</td>\n",
       "    </tr>\n",
       "    <tr>\n",
       "      <th>9</th>\n",
       "      <td>MicroCI1:2</td>\n",
       "      <td>0.15</td>\n",
       "      <td>0.400</td>\n",
       "      <td>0.533333</td>\n",
       "      <td>0.5375</td>\n",
       "      <td>0.6375</td>\n",
       "      <td>0.451667</td>\n",
       "      <td>0.704545</td>\n",
       "    </tr>\n",
       "    <tr>\n",
       "      <th>10</th>\n",
       "      <td>MicroCI1:3</td>\n",
       "      <td>0.15</td>\n",
       "      <td>0.375</td>\n",
       "      <td>0.533333</td>\n",
       "      <td>0.5375</td>\n",
       "      <td>0.6500</td>\n",
       "      <td>0.449167</td>\n",
       "      <td>0.704545</td>\n",
       "    </tr>\n",
       "  </tbody>\n",
       "</table>\n",
       "</div>"
      ],
      "text/plain": [
       "        Unnamed: 0  PR@1   PR@2      PR@3    PR@4    PR@5    PR@avg       Acc\n",
       "0      MonitorRank  0.10  0.175  0.200000  0.1750  0.2250  0.175000  0.633333\n",
       "1      CloudRanger  0.05  0.125  0.216667  0.1750  0.2250  0.158333  0.632955\n",
       "2   DyCause+linear  0.15  0.325  0.500000  0.4625  0.5000  0.387500  0.544697\n",
       "3     DyCause+prla  0.10  0.250  0.466667  0.5000  0.6250  0.388333  0.656061\n",
       "4     DyCause+BPMF  0.40  0.425  0.400000  0.3500  0.3625  0.387500  0.408333\n",
       "5       MicroCI4:1  0.20  0.250  0.333333  0.4000  0.5250  0.341667  0.686364\n",
       "6       MicroCI3:1  0.10  0.300  0.383333  0.4125  0.5750  0.354167  0.692803\n",
       "7       MicroCI2:1  0.10  0.325  0.416667  0.4625  0.6125  0.383333  0.699621\n",
       "8       MicroCI1:1  0.15  0.400  0.516667  0.5125  0.6500  0.445833  0.703788\n",
       "9       MicroCI1:2  0.15  0.400  0.533333  0.5375  0.6375  0.451667  0.704545\n",
       "10      MicroCI1:3  0.15  0.375  0.533333  0.5375  0.6500  0.449167  0.704545"
      ]
     },
     "execution_count": 10,
     "metadata": {},
     "output_type": "execute_result"
    }
   ],
   "source": [
    "results"
   ]
  },
  {
   "cell_type": "code",
   "execution_count": 8,
   "id": "c9bc20c0-e7db-4511-86f0-9f67f2f4104d",
   "metadata": {},
   "outputs": [],
   "source": [
    "sel = results.to_numpy()"
   ]
  },
  {
   "cell_type": "code",
   "execution_count": 17,
   "id": "29a53064-99e8-4624-bbb3-eacb600305e5",
   "metadata": {},
   "outputs": [],
   "source": [
    "a = sel[10:4:-1, 6:8]"
   ]
  },
  {
   "cell_type": "code",
   "execution_count": 19,
   "id": "10e22a2b-d4ea-4bad-934b-d4af214899d6",
   "metadata": {},
   "outputs": [],
   "source": [
    "b, c = a[:, 0], a[:, 1]"
   ]
  },
  {
   "cell_type": "code",
   "execution_count": 20,
   "id": "3650cd24-5a50-4c59-aaab-00f89d9581be",
   "metadata": {},
   "outputs": [
    {
     "name": "stdout",
     "output_type": "stream",
     "text": [
      "[0.4491666666666666 0.4516666666666666 0.4458333333333332\n",
      " 0.3833333333333333 0.35416666666666663 0.3416666666666666] [0.7045454545454545 0.7045454545454545 0.7037878787878787\n",
      " 0.6996212121212121 0.6928030303030303 0.6863636363636364]\n"
     ]
    }
   ],
   "source": [
    "print(b, c)"
   ]
  },
  {
   "cell_type": "code",
   "execution_count": 7,
   "id": "88420bf5-8cd3-4ba3-802c-86a02c12251d",
   "metadata": {},
   "outputs": [
    {
     "name": "stdout",
     "output_type": "stream",
     "text": [
      "[[1. 1. 1.]\n",
      " [1. 1. 1.]]\n"
     ]
    }
   ],
   "source": [
    "import numpy as np\n",
    "a = np.ones((2,3))\n",
    "print(a.round(3))"
   ]
  }
 ],
 "metadata": {
  "kernelspec": {
   "display_name": "Python [conda env:tsai]",
   "language": "python",
   "name": "tsai"
  },
  "language_info": {
   "codemirror_mode": {
    "name": "ipython",
    "version": 3
   },
   "file_extension": ".py",
   "mimetype": "text/x-python",
   "name": "python",
   "nbconvert_exporter": "python",
   "pygments_lexer": "ipython3",
   "version": "3.8.13"
  },
  "toc": {
   "base_numbering": 1,
   "nav_menu": {},
   "number_sections": false,
   "sideBar": true,
   "skip_h1_title": false,
   "title_cell": "Table of Contents",
   "title_sidebar": "Contents",
   "toc_cell": false,
   "toc_position": {},
   "toc_section_display": true,
   "toc_window_display": false
  }
 },
 "nbformat": 4,
 "nbformat_minor": 5
}
