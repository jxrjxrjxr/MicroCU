{
 "cells": [
  {
   "cell_type": "code",
   "execution_count": 1,
   "metadata": {
    "ExecuteTime": {
     "end_time": "2022-05-25T12:07:43.962343Z",
     "start_time": "2022-05-25T12:07:41.957398Z"
    }
   },
   "outputs": [
    {
     "name": "stderr",
     "output_type": "stream",
     "text": [
      "/opt/conda/envs/microcu/lib/python3.7/site-packages/graph_tool/draw/cairo_draw.py:1494: RuntimeWarning: Error importing Gtk module: No module named 'gi'; GTK+ drawing will not work.\n",
      "  warnings.warn(msg, RuntimeWarning)\n",
      "Warning: Could not load \"/usr/lib/x86_64-linux-gnu/graphviz/libgvplugin_pango.so.6\" - It was found, so perhaps one of its dependents was not.  Try ldd.\n"
     ]
    }
   ],
   "source": [
    "from params.load_params import loadConfig, dumpConfig\n",
    "from data.load_data import loadData\n",
    "from data.mask_data import maskData, printMissingRate\n",
    "from data.fill_data import fillData\n",
    "from data.clip_data import clipData\n",
    "from algo.granger_causal import grangerCausal\n",
    "from algo.build_graph import buildGraph\n",
    "from algo.analyze_root import analyzeRootABC, analyzeRootDyCause\n",
    "from dutils.metric import displayRes\n",
    "from algo.rank_node import scoreNorm, printNode\n",
    "from methods.micro_ci import rcaMicroCI\n",
    "from methods.dy_cause import rcaDyCause\n",
    "from methods.monitor_rank import rcaMonitorRank\n",
    "from methods.cloud_ranger import rcaCloudRanger\n",
    "from dutils.expr_utils import createExpr, list2csv, saveMask, adjustRate\n",
    "import pandas as pd\n",
    "import numpy as np\n",
    "from tqdm import tqdm\n",
    "import os\n",
    "import time\n",
    "\n",
    "import warnings\n",
    "warnings.filterwarnings('ignore')"
   ]
  },
  {
   "cell_type": "code",
   "execution_count": 2,
   "metadata": {
    "ExecuteTime": {
     "end_time": "2022-05-25T11:55:33.847524Z",
     "start_time": "2022-05-25T11:55:33.781957Z"
    }
   },
   "outputs": [],
   "source": [
    "%reload_ext autoreload\n",
    "%autoreload 2"
   ]
  },
  {
   "cell_type": "code",
   "execution_count": null,
   "metadata": {
    "ExecuteTime": {
     "start_time": "2022-05-25T11:55:38.775Z"
    }
   },
   "outputs": [
    {
     "name": "stderr",
     "output_type": "stream",
     "text": [
      "\r",
      "  0%|          | 0/10 [00:00<?, ?it/s]"
     ]
    },
    {
     "name": "stdout",
     "output_type": "stream",
     "text": [
      "In granger causal mp\n"
     ]
    },
    {
     "name": "stderr",
     "output_type": "stream",
     "text": [
      "\n",
      "  0%|          | 0/1056 [00:00<?, ?it/s]\u001b[A"
     ]
    }
   ],
   "source": [
    "times = 10\n",
    "saveRes = True\n",
    "methodName = ['MonitorRank',\n",
    "              'CloudRanger',\n",
    "              'DyCause+linear',\n",
    "              'DyCause+prla',\n",
    "              'DyCause+BPMF',\n",
    "              'MicroCI4:1',\n",
    "              'MicroCI3:1',\n",
    "              'MicroCI2:1',\n",
    "              'MicroCI1:1',\n",
    "              'MicroCI1:2',\n",
    "              'MicroCI1:3']\n",
    "exprDir, results = createExpr(methodName, times, saveRes=saveRes)\n",
    "tempDir = os.path.join(\".\", \"results\", \"tempExpr\")\n",
    "\n",
    "config = loadConfig()\n",
    "if saveRes:\n",
    "    dumpConfig(config, exprDir)\n",
    "else:\n",
    "    dumpConfig(config, tempDir)\n",
    "rData, _head = loadData(config)\n",
    "algoTime = {}\n",
    "\n",
    "# import pdb; pdb.set_trace();\n",
    "\n",
    "for loop in tqdm(range(times)):\n",
    "    methodNum = 0\n",
    "    mData, _mask = maskData(rData, config)\n",
    "#     import pdb; pdb.set_trace();\n",
    "    if saveRes:\n",
    "        saveMask(_mask, exprDir, loop)\n",
    "    cData, _cMask = clipData(mData, config, _mask)\n",
    "    curTime = time.time()\n",
    "    # MonitorRank\n",
    "    mMR, _mrInfo = rcaMonitorRank(cData, _head, config)\n",
    "    if not loop:\n",
    "        algoTime[methodName[methodNum]] = time.time() - curTime\n",
    "        curTime = time.time()\n",
    "        methodNum += 1\n",
    "    # CloudRanger\n",
    "    mCR, _crInfo = rcaMonitorRank(cData, _head, config)\n",
    "    if not loop:\n",
    "        algoTime[methodName[methodNum]] = time.time() - curTime\n",
    "        curTime = time.time()\n",
    "        methodNum += 1\n",
    "    # DyCause+linear\n",
    "    config[\"Data params\"][\"zeroFillMethod\"] = \"linear\"\n",
    "    mlDyCause, _ldInfo = rcaDyCause(cData, _head, config)\n",
    "    if not loop:\n",
    "        algoTime[methodName[methodNum]] = time.time() - curTime\n",
    "        curTime = time.time()\n",
    "        methodNum += 1\n",
    "    # DyCause+prla\n",
    "    config[\"Data params\"][\"zeroFillMethod\"] = \"prevlatter\"\n",
    "    mDyCause, _dInfo = rcaDyCause(cData, _head, config)\n",
    "    if not loop:\n",
    "        algoTime[methodName[methodNum]] = time.time() - curTime\n",
    "        curTime = time.time()\n",
    "        methodNum += 1\n",
    "    # DyCause+BPMF\n",
    "    config[\"Data params\"][\"zeroFillMethod\"] = \"BPMF\"\n",
    "    mpDyCause, _pdInfo = rcaDyCause(cData, _head, config)\n",
    "    if not loop:\n",
    "        algoTime[methodName[methodNum]] = time.time() - curTime\n",
    "        curTime = time.time()\n",
    "        methodNum += 1\n",
    "    # MicroCI4:1\n",
    "    config[\"Data params\"][\"zeroFillMethod\"] = \"prevlatter\"\n",
    "    config[\"rw params\"][\"rate\"] = 4\n",
    "    m41MicroCI, _mInfo = rcaMicroCI(cData, _head, config)\n",
    "    if not loop:\n",
    "        algoTime[methodName[methodNum]] = time.time() - curTime\n",
    "        curTime = time.time()\n",
    "        methodNum += 1\n",
    "    # MicroCI3:1\n",
    "    config[\"rw params\"][\"rate\"] = 3\n",
    "    m31MicroCI = adjustRate(_mInfo[0], config)\n",
    "    # MicroCI2:1\n",
    "    config[\"rw params\"][\"rate\"] = 2\n",
    "    m21MicroCI = adjustRate(_mInfo[0], config)\n",
    "    # MicroCI1:1\n",
    "    config[\"rw params\"][\"rate\"] = 1\n",
    "    m11MicroCI = adjustRate(_mInfo[0], config)\n",
    "    # MicroCI1:2\n",
    "    config[\"rw params\"][\"rate\"] = 0.5\n",
    "    m12MicroCI = adjustRate(_mInfo[0], config)\n",
    "    # MicroCI1:3\n",
    "    config[\"rw params\"][\"rate\"] = 0.3333\n",
    "    m13MicroCI = adjustRate(_mInfo[0], config)\n",
    "    \n",
    "    curRes = list2csv([mMR,\n",
    "                       mCR,\n",
    "                       mlDyCause,\n",
    "                       mDyCause,\n",
    "                       mpDyCause,\n",
    "                       m41MicroCI,\n",
    "                       m31MicroCI,\n",
    "                       m21MicroCI,\n",
    "                       m11MicroCI,\n",
    "                       m12MicroCI,\n",
    "                       m13MicroCI])\n",
    "    if saveRes:\n",
    "        curRes.to_csv(os.path.join(exprDir, 'res{:02d}.csv'.format(loop)))\n",
    "    else:\n",
    "        curRes.to_csv(os.path.join(tempDir, 'res{:02d}.csv'.format(loop)))\n",
    "    results = pd.DataFrame(curRes.values + results.values, columns=results.columns, index=results.index)\n",
    "    if not loop:\n",
    "        for key in algoTime:\n",
    "            print(\"{} : {:.3f}s\".format(key, algoTime[key]))\n",
    "results /= times\n",
    "if saveRes:\n",
    "    results.to_csv(os.path.join(exprDir, 'results.csv'))\n",
    "else:\n",
    "    results.to_csv(os.path.join(tempDir, 'results.csv'))"
   ]
  },
  {
   "cell_type": "code",
   "execution_count": 8,
   "metadata": {
    "ExecuteTime": {
     "end_time": "2022-05-25T10:38:54.284856Z",
     "start_time": "2022-05-25T10:38:54.240504Z"
    }
   },
   "outputs": [
    {
     "data": {
      "text/plain": [
       "int"
      ]
     },
     "execution_count": 8,
     "metadata": {},
     "output_type": "execute_result"
    }
   ],
   "source": [
    "type(config[\"Data params\"][\"start_time\"])"
   ]
  }
 ],
 "metadata": {
  "kernelspec": {
   "display_name": "Python 3",
   "language": "python",
   "name": "python3"
  },
  "language_info": {
   "codemirror_mode": {
    "name": "ipython",
    "version": 3
   },
   "file_extension": ".py",
   "mimetype": "text/x-python",
   "name": "python",
   "nbconvert_exporter": "python",
   "pygments_lexer": "ipython3",
   "version": "3.8.10"
  },
  "toc": {
   "base_numbering": 1,
   "nav_menu": {},
   "number_sections": false,
   "sideBar": true,
   "skip_h1_title": false,
   "title_cell": "Table of Contents",
   "title_sidebar": "Contents",
   "toc_cell": false,
   "toc_position": {},
   "toc_section_display": true,
   "toc_window_display": false
  },
  "varInspector": {
   "cols": {
    "lenName": 16,
    "lenType": 16,
    "lenVar": 40
   },
   "kernels_config": {
    "python": {
     "delete_cmd_postfix": "",
     "delete_cmd_prefix": "del ",
     "library": "var_list.py",
     "varRefreshCmd": "print(var_dic_list())"
    },
    "r": {
     "delete_cmd_postfix": ") ",
     "delete_cmd_prefix": "rm(",
     "library": "var_list.r",
     "varRefreshCmd": "cat(var_dic_list()) "
    }
   },
   "types_to_exclude": [
    "module",
    "function",
    "builtin_function_or_method",
    "instance",
    "_Feature"
   ],
   "window_display": false
  }
 },
 "nbformat": 4,
 "nbformat_minor": 4
}
