{
 "cells": [
  {
   "cell_type": "code",
   "execution_count": 111,
   "id": "793dbd32",
   "metadata": {
    "ExecuteTime": {
     "end_time": "2022-08-08T09:06:15.522248Z",
     "start_time": "2022-08-08T09:06:15.485793Z"
    }
   },
   "outputs": [],
   "source": [
    "from openpyxl import load_workbook\n",
    "import pandas as pd\n",
    "import matplotlib.pyplot as plt"
   ]
  },
  {
   "cell_type": "code",
   "execution_count": 85,
   "id": "93adfd10",
   "metadata": {
    "ExecuteTime": {
     "end_time": "2022-08-08T08:51:11.833596Z",
     "start_time": "2022-08-08T08:51:11.795486Z"
    }
   },
   "outputs": [],
   "source": [
    "import matplotlib.colors as mcolors\n",
    "colors=list(mcolors.TABLEAU_COLORS.keys()) #颜色变化\n",
    "selcol = lambda x: [mcolors.TABLEAU_COLORS[colors[i]] for i in range(x)]"
   ]
  },
  {
   "cell_type": "code",
   "execution_count": 2,
   "id": "3c5e44b9",
   "metadata": {
    "ExecuteTime": {
     "end_time": "2022-08-08T08:03:16.941635Z",
     "start_time": "2022-08-08T08:03:16.900178Z"
    }
   },
   "outputs": [],
   "source": [
    "%reload_ext autoreload\n",
    "%autoreload 2"
   ]
  },
  {
   "cell_type": "code",
   "execution_count": 17,
   "id": "878ac0cf",
   "metadata": {
    "ExecuteTime": {
     "end_time": "2022-08-08T08:15:51.239536Z",
     "start_time": "2022-08-08T08:15:51.162328Z"
    }
   },
   "outputs": [],
   "source": [
    "df = pd.read_excel('data/experiments.xlsx', sheet_name='step')"
   ]
  },
  {
   "cell_type": "code",
   "execution_count": 121,
   "id": "47dcad28",
   "metadata": {
    "ExecuteTime": {
     "end_time": "2022-08-08T09:10:52.931408Z",
     "start_time": "2022-08-08T09:10:52.895682Z"
    }
   },
   "outputs": [
    {
     "data": {
      "text/html": [
       "<div>\n",
       "<style scoped>\n",
       "    .dataframe tbody tr th:only-of-type {\n",
       "        vertical-align: middle;\n",
       "    }\n",
       "\n",
       "    .dataframe tbody tr th {\n",
       "        vertical-align: top;\n",
       "    }\n",
       "\n",
       "    .dataframe thead th {\n",
       "        text-align: right;\n",
       "    }\n",
       "</style>\n",
       "<table border=\"1\" class=\"dataframe\">\n",
       "  <thead>\n",
       "    <tr style=\"text-align: right;\">\n",
       "      <th></th>\n",
       "      <th>p_mask</th>\n",
       "      <th>step</th>\n",
       "      <th>PR@avg</th>\n",
       "      <th>RankScore</th>\n",
       "      <th>TimeCost(s)</th>\n",
       "    </tr>\n",
       "  </thead>\n",
       "  <tbody>\n",
       "    <tr>\n",
       "      <th>0</th>\n",
       "      <td>0.4</td>\n",
       "      <td>30</td>\n",
       "      <td>0.5023</td>\n",
       "      <td>0.7523</td>\n",
       "      <td>842</td>\n",
       "    </tr>\n",
       "    <tr>\n",
       "      <th>1</th>\n",
       "      <td>NaN</td>\n",
       "      <td>50</td>\n",
       "      <td>0.4725</td>\n",
       "      <td>0.7815</td>\n",
       "      <td>344</td>\n",
       "    </tr>\n",
       "    <tr>\n",
       "      <th>2</th>\n",
       "      <td>NaN</td>\n",
       "      <td>70</td>\n",
       "      <td>0.4882</td>\n",
       "      <td>0.7706</td>\n",
       "      <td>185</td>\n",
       "    </tr>\n",
       "    <tr>\n",
       "      <th>3</th>\n",
       "      <td>0.3</td>\n",
       "      <td>30</td>\n",
       "      <td>0.4763</td>\n",
       "      <td>0.7235</td>\n",
       "      <td>762</td>\n",
       "    </tr>\n",
       "    <tr>\n",
       "      <th>4</th>\n",
       "      <td>NaN</td>\n",
       "      <td>50</td>\n",
       "      <td>0.4974</td>\n",
       "      <td>0.7453</td>\n",
       "      <td>312</td>\n",
       "    </tr>\n",
       "    <tr>\n",
       "      <th>5</th>\n",
       "      <td>NaN</td>\n",
       "      <td>70</td>\n",
       "      <td>0.4589</td>\n",
       "      <td>0.7371</td>\n",
       "      <td>179</td>\n",
       "    </tr>\n",
       "    <tr>\n",
       "      <th>6</th>\n",
       "      <td>0.2</td>\n",
       "      <td>30</td>\n",
       "      <td>0.2855</td>\n",
       "      <td>0.5253</td>\n",
       "      <td>715</td>\n",
       "    </tr>\n",
       "    <tr>\n",
       "      <th>7</th>\n",
       "      <td>NaN</td>\n",
       "      <td>50</td>\n",
       "      <td>0.3225</td>\n",
       "      <td>0.6552</td>\n",
       "      <td>295</td>\n",
       "    </tr>\n",
       "    <tr>\n",
       "      <th>8</th>\n",
       "      <td>NaN</td>\n",
       "      <td>70</td>\n",
       "      <td>0.3427</td>\n",
       "      <td>0.6604</td>\n",
       "      <td>174</td>\n",
       "    </tr>\n",
       "  </tbody>\n",
       "</table>\n",
       "</div>"
      ],
      "text/plain": [
       "   p_mask  step  PR@avg  RankScore  TimeCost(s)\n",
       "0     0.4    30  0.5023     0.7523          842\n",
       "1     NaN    50  0.4725     0.7815          344\n",
       "2     NaN    70  0.4882     0.7706          185\n",
       "3     0.3    30  0.4763     0.7235          762\n",
       "4     NaN    50  0.4974     0.7453          312\n",
       "5     NaN    70  0.4589     0.7371          179\n",
       "6     0.2    30  0.2855     0.5253          715\n",
       "7     NaN    50  0.3225     0.6552          295\n",
       "8     NaN    70  0.3427     0.6604          174"
      ]
     },
     "execution_count": 121,
     "metadata": {},
     "output_type": "execute_result"
    }
   ],
   "source": [
    "df"
   ]
  },
  {
   "cell_type": "code",
   "execution_count": 133,
   "id": "552f2da3",
   "metadata": {
    "ExecuteTime": {
     "end_time": "2022-08-08T09:15:07.937369Z",
     "start_time": "2022-08-08T09:15:07.914405Z"
    }
   },
   "outputs": [],
   "source": [
    "curDf = df.iloc[6:9, 1:].copy()"
   ]
  },
  {
   "cell_type": "code",
   "execution_count": 113,
   "id": "e79f96e3",
   "metadata": {
    "ExecuteTime": {
     "end_time": "2022-08-08T09:06:25.126070Z",
     "start_time": "2022-08-08T09:06:25.103747Z"
    }
   },
   "outputs": [],
   "source": [
    "plt.rcParams[\"font.family\"] = 'sans-serif'"
   ]
  },
  {
   "cell_type": "code",
   "execution_count": 151,
   "id": "acf6a219",
   "metadata": {
    "ExecuteTime": {
     "end_time": "2022-08-08T09:41:27.989070Z",
     "start_time": "2022-08-08T09:41:27.960305Z"
    }
   },
   "outputs": [
    {
     "data": {
      "text/plain": [
       "'3.5.2'"
      ]
     },
     "execution_count": 151,
     "metadata": {},
     "output_type": "execute_result"
    }
   ],
   "source": [
    "import matplotlib\n",
    "matplotlib.__version__"
   ]
  },
  {
   "cell_type": "code",
   "execution_count": 180,
   "id": "282f54c2",
   "metadata": {
    "ExecuteTime": {
     "end_time": "2022-08-08T11:32:38.180875Z",
     "start_time": "2022-08-08T11:32:32.931256Z"
    }
   },
   "outputs": [],
   "source": [
    "fig, ax = plt.subplots(figsize=(12, 10), dpi=1000)\n",
    "curDf.plot(kind='bar', x='step', secondary_y=['TimeCost(s)'], ax=ax, color=selcol(3), rot=0, alpha=0.6)\n",
    "ax.set_xlabel('Step', fontsize=25)\n",
    "ax1, ax2 = plt.gcf().get_axes()\n",
    "ax1.grid(axis='y', linestyle='-.')\n",
    "ax1.set_ylim(0, 1)\n",
    "ax1.tick_params(axis='both', which='major', labelsize=50)\n",
    "ax2.set_ylim(0, 1000)\n",
    "ax2.tick_params(axis='both', which='major', labelsize=50)\n",
    "# # ax1.legend().remove()\n",
    "# # ax2.legend().remove()\n",
    "ax1.legend(curDf.columns[1:-1], loc=2, fontsize=25)\n",
    "ax2.legend([curDf.columns[-1]], loc=1, fontsize=25)\n",
    "# plt.show()\n",
    "plt.savefig('plots/step-0.2-5:4-500.png', dpi=500)\n",
    "plt.close()"
   ]
  }
 ],
 "metadata": {
  "kernelspec": {
   "display_name": "Python [conda env:tsai]",
   "language": "python",
   "name": "tsai"
  },
  "language_info": {
   "codemirror_mode": {
    "name": "ipython",
    "version": 3
   },
   "file_extension": ".py",
   "mimetype": "text/x-python",
   "name": "python",
   "nbconvert_exporter": "python",
   "pygments_lexer": "ipython3",
   "version": "3.8.13"
  },
  "toc": {
   "base_numbering": 1,
   "nav_menu": {},
   "number_sections": false,
   "sideBar": true,
   "skip_h1_title": false,
   "title_cell": "Table of Contents",
   "title_sidebar": "Contents",
   "toc_cell": false,
   "toc_position": {},
   "toc_section_display": true,
   "toc_window_display": false
  }
 },
 "nbformat": 4,
 "nbformat_minor": 5
}
