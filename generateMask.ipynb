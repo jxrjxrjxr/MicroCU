{
 "cells": [
  {
   "cell_type": "code",
   "execution_count": 4,
   "id": "a59f4e95-d10e-4235-b415-ecffcec17ef7",
   "metadata": {},
   "outputs": [],
   "source": [
    "from params.load_params import loadConfig\n",
    "from data.load_data import loadData\n",
    "from data.mask_data import maskData\n",
    "import os\n",
    "from tqdm import tqdm\n",
    "from dutils.expr_utils import saveMask"
   ]
  },
  {
   "cell_type": "code",
   "execution_count": 5,
   "id": "9f20621a-7e6c-4f9e-bef1-33623f33feb5",
   "metadata": {},
   "outputs": [],
   "source": [
    "%reload_ext autoreload\n",
    "%autoreload 2"
   ]
  },
  {
   "cell_type": "code",
   "execution_count": 7,
   "id": "2d6f06a6-4f98-4302-8204-67c324e9b6d2",
   "metadata": {},
   "outputs": [
    {
     "name": "stderr",
     "output_type": "stream",
     "text": [
      "100%|██████████| 20/20 [00:00<00:00, 63.67it/s]\n",
      "100%|██████████| 20/20 [00:00<00:00, 59.66it/s]\n",
      "100%|██████████| 20/20 [00:00<00:00, 53.60it/s]\n"
     ]
    }
   ],
   "source": [
    "times = 20\n",
    "config= loadConfig()\n",
    "rData, _head = loadData(config)\n",
    "for p in [0.4, 0.3, 0.2]:\n",
    "    maskDir = os.path.join(\".\", \"data\", \"maskData-{}\".format(p))\n",
    "    os.makedirs(maskDir, exist_ok=True)\n",
    "    for loop in tqdm(range(times)):\n",
    "        config[\"Data params\"][\"sample_rate\"] = p\n",
    "        mData, _mask = maskData(rData, config)\n",
    "        saveMask(mData, maskDir, loop)"
   ]
  }
 ],
 "metadata": {
  "kernelspec": {
   "display_name": "DyCauseEnv",
   "language": "python",
   "name": "dycauseenv"
  },
  "language_info": {
   "codemirror_mode": {
    "name": "ipython",
    "version": 3
   },
   "file_extension": ".py",
   "mimetype": "text/x-python",
   "name": "python",
   "nbconvert_exporter": "python",
   "pygments_lexer": "ipython3",
   "version": "3.7.5"
  }
 },
 "nbformat": 4,
 "nbformat_minor": 5
}
