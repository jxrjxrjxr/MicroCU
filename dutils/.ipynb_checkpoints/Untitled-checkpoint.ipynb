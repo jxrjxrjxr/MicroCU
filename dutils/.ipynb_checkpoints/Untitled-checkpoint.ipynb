{
 "cells": [
  {
   "cell_type": "code",
   "execution_count": 1,
   "id": "3ccc8a85-1b03-4344-82a2-64359b261f89",
   "metadata": {},
   "outputs": [],
   "source": [
    "from loaddata import BTMF"
   ]
  },
  {
   "cell_type": "code",
   "execution_count": 2,
   "id": "a27a0d08-0351-45ee-af98-fe3a15c7de78",
   "metadata": {},
   "outputs": [],
   "source": [
    "import numpy as np"
   ]
  },
  {
   "cell_type": "code",
   "execution_count": 3,
   "id": "28a4c0c6-03d5-4ede-b59a-44dcab2c1d15",
   "metadata": {},
   "outputs": [],
   "source": [
    "mat = np.random.rand(10, 12)"
   ]
  },
  {
   "cell_type": "code",
   "execution_count": 5,
   "id": "bafe2726-15cb-4314-8530-449f45b2918b",
   "metadata": {},
   "outputs": [],
   "source": [
    "bina = np.random.choice(2, size=mat.shape, p=[0.3, 0.7])"
   ]
  },
  {
   "cell_type": "code",
   "execution_count": 6,
   "id": "cd7e32e9-ac16-49ec-837c-b6a6f936bd9b",
   "metadata": {},
   "outputs": [
    {
     "data": {
      "text/plain": [
       "array([[0, 1, 0, 1, 0, 1, 0, 1, 1, 0, 1, 1],\n",
       "       [0, 0, 0, 1, 0, 1, 1, 1, 1, 0, 1, 0],\n",
       "       [1, 0, 1, 1, 1, 1, 1, 0, 0, 1, 0, 1],\n",
       "       [1, 1, 1, 1, 0, 0, 0, 1, 1, 1, 0, 0],\n",
       "       [0, 1, 1, 0, 1, 1, 0, 1, 1, 1, 1, 1],\n",
       "       [1, 0, 1, 1, 1, 0, 1, 1, 0, 0, 1, 1],\n",
       "       [0, 1, 0, 1, 1, 1, 1, 1, 1, 0, 1, 0],\n",
       "       [1, 0, 0, 0, 0, 1, 1, 1, 1, 1, 1, 1],\n",
       "       [1, 0, 1, 1, 1, 1, 0, 0, 0, 1, 0, 1],\n",
       "       [1, 0, 0, 1, 1, 1, 1, 1, 1, 1, 1, 1]])"
      ]
     },
     "execution_count": 6,
     "metadata": {},
     "output_type": "execute_result"
    }
   ],
   "source": [
    "bina"
   ]
  },
  {
   "cell_type": "code",
   "execution_count": 7,
   "id": "92c0679f-34a9-465d-9ff1-9c63f051b3e4",
   "metadata": {},
   "outputs": [],
   "source": [
    "sparseMat = mat * bina"
   ]
  },
  {
   "cell_type": "code",
   "execution_count": 8,
   "id": "5a92f088-4baa-4b7b-a920-94bc47ab8aff",
   "metadata": {},
   "outputs": [
    {
     "data": {
      "text/plain": [
       "array([[0.  , 0.21, 0.  , 0.26, 0.  , 0.95, 0.  , 0.62, 0.6 , 0.  , 0.47,\n",
       "        0.33],\n",
       "       [0.  , 0.  , 0.  , 0.38, 0.  , 0.78, 0.22, 0.61, 0.33, 0.  , 0.34,\n",
       "        0.  ],\n",
       "       [0.19, 0.  , 0.04, 0.68, 0.85, 0.8 , 0.46, 0.  , 0.  , 0.34, 0.  ,\n",
       "        0.24],\n",
       "       [0.9 , 0.43, 0.9 , 0.95, 0.  , 0.  , 0.  , 0.29, 0.2 , 0.41, 0.  ,\n",
       "        0.  ],\n",
       "       [0.  , 0.74, 0.27, 0.  , 0.14, 0.61, 0.  , 0.87, 0.54, 0.24, 0.41,\n",
       "        0.02],\n",
       "       [0.81, 0.  , 0.89, 0.68, 0.14, 0.  , 0.54, 0.11, 0.  , 0.  , 0.47,\n",
       "        0.11],\n",
       "       [0.  , 0.68, 0.  , 0.66, 0.49, 0.52, 0.73, 0.72, 0.58, 0.  , 0.4 ,\n",
       "        0.  ],\n",
       "       [0.07, 0.  , 0.  , 0.  , 0.  , 0.01, 0.6 , 0.81, 0.84, 0.86, 0.02,\n",
       "        0.28],\n",
       "       [0.37, 0.  , 0.92, 0.65, 0.06, 0.08, 0.  , 0.  , 0.  , 0.14, 0.  ,\n",
       "        0.29],\n",
       "       [0.86, 0.  , 0.  , 0.35, 0.74, 0.55, 0.89, 0.5 , 0.9 , 0.12, 0.03,\n",
       "        0.13]])"
      ]
     },
     "execution_count": 8,
     "metadata": {},
     "output_type": "execute_result"
    }
   ],
   "source": [
    "sparseMat.round(2)"
   ]
  },
  {
   "cell_type": "code",
   "execution_count": 10,
   "id": "e626ec0f-3892-4cf0-8cad-fad05a019718",
   "metadata": {},
   "outputs": [],
   "source": [
    "dim1, dim2 = sparseMat.shape\n",
    "rank = min(dim1, dim2) // 2\n",
    "init = {\"W\": 0.1 * np.random.rand(dim1, rank), \"X\": 0.1 * np.random.rand(dim2, rank)}\n",
    "time_lags = np.array([1, 2, 3])\n",
    "newMat, W, X, A = BTMF(mat, sparseMat, init, rank, time_lags, 1100, 100)"
   ]
  },
  {
   "cell_type": "code",
   "execution_count": 11,
   "id": "57876f10-c73d-4af4-b4ca-ce0eb61cab83",
   "metadata": {},
   "outputs": [
    {
     "data": {
      "text/plain": [
       "array([[ 0.44,  0.21,  0.83,  0.26,  0.98,  0.95, -0.1 ,  0.62,  0.6 ,\n",
       "        -1.24,  0.47,  0.33, -1.64],\n",
       "       [ 0.55,  0.55,  0.35,  0.38, -0.33,  0.78,  0.22,  0.61,  0.33,\n",
       "        -0.52,  0.35, -0.16, -0.58],\n",
       "       [ 0.19,  1.22,  0.04,  0.68,  0.85,  0.8 ,  0.46,  1.86,  1.15,\n",
       "         0.34,  0.64,  0.24, -1.29],\n",
       "       [ 0.9 ,  0.43,  0.9 ,  0.95,  0.27,  0.65,  0.86,  0.29,  0.2 ,\n",
       "         0.41,  0.58,  0.19,  1.08],\n",
       "       [ 0.48,  0.74,  0.27,  0.59,  0.14,  0.61,  0.54,  0.87,  0.54,\n",
       "         0.24,  0.41,  0.02, -0.16],\n",
       "       [ 0.81,  0.24,  0.89,  0.68,  0.14,  0.69,  0.54,  0.11,  0.11,\n",
       "        -0.18,  0.47,  0.11,  0.55],\n",
       "       [ 0.58,  0.67,  0.45,  0.67,  0.49,  0.53,  0.73,  0.72,  0.57,\n",
       "         0.47,  0.4 ,  0.17,  0.18],\n",
       "       [ 0.08,  0.65, -0.1 ,  0.23,  1.  ,  0.01,  0.6 ,  0.81,  0.84,\n",
       "         0.86,  0.02,  0.28, -0.34],\n",
       "       [ 0.37, -0.63,  0.92,  0.65,  0.06,  0.08,  0.15, -0.83, -0.82,\n",
       "         0.14,  0.51,  0.29,  2.01],\n",
       "       [ 0.85,  0.7 ,  0.57,  0.35,  0.74,  0.55,  0.89,  0.5 ,  0.9 ,\n",
       "         0.12,  0.03,  0.13, -0.42]])"
      ]
     },
     "execution_count": 11,
     "metadata": {},
     "output_type": "execute_result"
    }
   ],
   "source": [
    "newMat.round(2)"
   ]
  },
  {
   "cell_type": "code",
   "execution_count": 6,
   "id": "4e1d06e9-a300-4272-b57a-220de1fabead",
   "metadata": {},
   "outputs": [
    {
     "data": {
      "text/plain": [
       "(array([], dtype=int64), array([], dtype=int64))"
      ]
     },
     "execution_count": 6,
     "metadata": {},
     "output_type": "execute_result"
    }
   ],
   "source": [
    "import numpy as np\n",
    "a = np.zeros((2,3))\n",
    "a.nonzero()"
   ]
  },
  {
   "cell_type": "code",
   "execution_count": 8,
   "id": "1adf4a7b-99d4-4c67-b08f-524ae8523917",
   "metadata": {},
   "outputs": [
    {
     "data": {
      "text/plain": [
       "(array([0, 0, 0, 1, 1, 1]), array([0, 1, 2, 0, 1, 2]))"
      ]
     },
     "execution_count": 8,
     "metadata": {},
     "output_type": "execute_result"
    }
   ],
   "source": [
    "b = np.ones((2, 3))\n",
    "b[:, 0].nonzero()"
   ]
  }
 ],
 "metadata": {
  "kernelspec": {
   "display_name": "DyCauseEnv",
   "language": "python",
   "name": "dycauseenv"
  },
  "language_info": {
   "codemirror_mode": {
    "name": "ipython",
    "version": 3
   },
   "file_extension": ".py",
   "mimetype": "text/x-python",
   "name": "python",
   "nbconvert_exporter": "python",
   "pygments_lexer": "ipython3",
   "version": "3.7.5"
  }
 },
 "nbformat": 4,
 "nbformat_minor": 5
}
