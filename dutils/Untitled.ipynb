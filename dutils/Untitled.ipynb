{
 "cells": [
  {
   "cell_type": "code",
   "execution_count": 1,
   "id": "3ccc8a85-1b03-4344-82a2-64359b261f89",
   "metadata": {},
   "outputs": [],
   "source": [
    "from loaddata import BTMF"
   ]
  },
  {
   "cell_type": "code",
   "execution_count": 2,
   "id": "a27a0d08-0351-45ee-af98-fe3a15c7de78",
   "metadata": {},
   "outputs": [],
   "source": [
    "import numpy as np"
   ]
  },
  {
   "cell_type": "code",
   "execution_count": 3,
   "id": "28a4c0c6-03d5-4ede-b59a-44dcab2c1d15",
   "metadata": {},
   "outputs": [],
   "source": [
    "mat = np.random.rand(10, 12)"
   ]
  },
  {
   "cell_type": "code",
   "execution_count": 5,
   "id": "bafe2726-15cb-4314-8530-449f45b2918b",
   "metadata": {},
   "outputs": [],
   "source": [
    "bina = np.random.choice(2, size=mat.shape, p=[0.3, 0.7])"
   ]
  },
  {
   "cell_type": "code",
   "execution_count": 6,
   "id": "cd7e32e9-ac16-49ec-837c-b6a6f936bd9b",
   "metadata": {},
   "outputs": [
    {
     "data": {
      "text/plain": [
       "array([[0, 1, 0, 1, 0, 1, 0, 1, 1, 0, 1, 1],\n",
       "       [0, 0, 0, 1, 0, 1, 1, 1, 1, 0, 1, 0],\n",
       "       [1, 0, 1, 1, 1, 1, 1, 0, 0, 1, 0, 1],\n",
       "       [1, 1, 1, 1, 0, 0, 0, 1, 1, 1, 0, 0],\n",
       "       [0, 1, 1, 0, 1, 1, 0, 1, 1, 1, 1, 1],\n",
       "       [1, 0, 1, 1, 1, 0, 1, 1, 0, 0, 1, 1],\n",
       "       [0, 1, 0, 1, 1, 1, 1, 1, 1, 0, 1, 0],\n",
       "       [1, 0, 0, 0, 0, 1, 1, 1, 1, 1, 1, 1],\n",
       "       [1, 0, 1, 1, 1, 1, 0, 0, 0, 1, 0, 1],\n",
       "       [1, 0, 0, 1, 1, 1, 1, 1, 1, 1, 1, 1]])"
      ]
     },
     "execution_count": 6,
     "metadata": {},
     "output_type": "execute_result"
    }
   ],
   "source": [
    "bina"
   ]
  },
  {
   "cell_type": "code",
   "execution_count": 7,
   "id": "92c0679f-34a9-465d-9ff1-9c63f051b3e4",
   "metadata": {},
   "outputs": [],
   "source": [
    "sparseMat = mat * bina"
   ]
  },
  {
   "cell_type": "code",
   "execution_count": 8,
   "id": "5a92f088-4baa-4b7b-a920-94bc47ab8aff",
   "metadata": {},
   "outputs": [
    {
     "data": {
      "text/plain": [
       "array([[0.  , 0.21, 0.  , 0.26, 0.  , 0.95, 0.  , 0.62, 0.6 , 0.  , 0.47,\n",
       "        0.33],\n",
       "       [0.  , 0.  , 0.  , 0.38, 0.  , 0.78, 0.22, 0.61, 0.33, 0.  , 0.34,\n",
       "        0.  ],\n",
       "       [0.19, 0.  , 0.04, 0.68, 0.85, 0.8 , 0.46, 0.  , 0.  , 0.34, 0.  ,\n",
       "        0.24],\n",
       "       [0.9 , 0.43, 0.9 , 0.95, 0.  , 0.  , 0.  , 0.29, 0.2 , 0.41, 0.  ,\n",
       "        0.  ],\n",
       "       [0.  , 0.74, 0.27, 0.  , 0.14, 0.61, 0.  , 0.87, 0.54, 0.24, 0.41,\n",
       "        0.02],\n",
       "       [0.81, 0.  , 0.89, 0.68, 0.14, 0.  , 0.54, 0.11, 0.  , 0.  , 0.47,\n",
       "        0.11],\n",
       "       [0.  , 0.68, 0.  , 0.66, 0.49, 0.52, 0.73, 0.72, 0.58, 0.  , 0.4 ,\n",
       "        0.  ],\n",
       "       [0.07, 0.  , 0.  , 0.  , 0.  , 0.01, 0.6 , 0.81, 0.84, 0.86, 0.02,\n",
       "        0.28],\n",
       "       [0.37, 0.  , 0.92, 0.65, 0.06, 0.08, 0.  , 0.  , 0.  , 0.14, 0.  ,\n",
       "        0.29],\n",
       "       [0.86, 0.  , 0.  , 0.35, 0.74, 0.55, 0.89, 0.5 , 0.9 , 0.12, 0.03,\n",
       "        0.13]])"
      ]
     },
     "execution_count": 8,
     "metadata": {},
     "output_type": "execute_result"
    }
   ],
   "source": [
    "sparseMat.round(2)"
   ]
  },
  {
   "cell_type": "code",
   "execution_count": 10,
   "id": "e626ec0f-3892-4cf0-8cad-fad05a019718",
   "metadata": {},
   "outputs": [],
   "source": [
    "dim1, dim2 = sparseMat.shape\n",
    "rank = min(dim1, dim2) // 2\n",
    "init = {\"W\": 0.1 * np.random.rand(dim1, rank), \"X\": 0.1 * np.random.rand(dim2, rank)}\n",
    "time_lags = np.array([1, 2, 3])\n",
    "newMat, W, X, A = BTMF(mat, sparseMat, init, rank, time_lags, 1100, 100)"
   ]
  },
  {
   "cell_type": "code",
   "execution_count": 11,
   "id": "57876f10-c73d-4af4-b4ca-ce0eb61cab83",
   "metadata": {},
   "outputs": [
    {
     "data": {
      "text/plain": [
       "array([[ 0.44,  0.21,  0.83,  0.26,  0.98,  0.95, -0.1 ,  0.62,  0.6 ,\n",
       "        -1.24,  0.47,  0.33, -1.64],\n",
       "       [ 0.55,  0.55,  0.35,  0.38, -0.33,  0.78,  0.22,  0.61,  0.33,\n",
       "        -0.52,  0.35, -0.16, -0.58],\n",
       "       [ 0.19,  1.22,  0.04,  0.68,  0.85,  0.8 ,  0.46,  1.86,  1.15,\n",
       "         0.34,  0.64,  0.24, -1.29],\n",
       "       [ 0.9 ,  0.43,  0.9 ,  0.95,  0.27,  0.65,  0.86,  0.29,  0.2 ,\n",
       "         0.41,  0.58,  0.19,  1.08],\n",
       "       [ 0.48,  0.74,  0.27,  0.59,  0.14,  0.61,  0.54,  0.87,  0.54,\n",
       "         0.24,  0.41,  0.02, -0.16],\n",
       "       [ 0.81,  0.24,  0.89,  0.68,  0.14,  0.69,  0.54,  0.11,  0.11,\n",
       "        -0.18,  0.47,  0.11,  0.55],\n",
       "       [ 0.58,  0.67,  0.45,  0.67,  0.49,  0.53,  0.73,  0.72,  0.57,\n",
       "         0.47,  0.4 ,  0.17,  0.18],\n",
       "       [ 0.08,  0.65, -0.1 ,  0.23,  1.  ,  0.01,  0.6 ,  0.81,  0.84,\n",
       "         0.86,  0.02,  0.28, -0.34],\n",
       "       [ 0.37, -0.63,  0.92,  0.65,  0.06,  0.08,  0.15, -0.83, -0.82,\n",
       "         0.14,  0.51,  0.29,  2.01],\n",
       "       [ 0.85,  0.7 ,  0.57,  0.35,  0.74,  0.55,  0.89,  0.5 ,  0.9 ,\n",
       "         0.12,  0.03,  0.13, -0.42]])"
      ]
     },
     "execution_count": 11,
     "metadata": {},
     "output_type": "execute_result"
    }
   ],
   "source": [
    "newMat.round(2)"
   ]
  },
  {
   "cell_type": "code",
   "execution_count": 6,
   "id": "4e1d06e9-a300-4272-b57a-220de1fabead",
   "metadata": {},
   "outputs": [
    {
     "data": {
      "text/plain": [
       "(array([], dtype=int64), array([], dtype=int64))"
      ]
     },
     "execution_count": 6,
     "metadata": {},
     "output_type": "execute_result"
    }
   ],
   "source": [
    "import numpy as np\n",
    "a = np.zeros((2,3))\n",
    "a.nonzero()"
   ]
  },
  {
   "cell_type": "code",
   "execution_count": 10,
   "id": "1adf4a7b-99d4-4c67-b08f-524ae8523917",
   "metadata": {},
   "outputs": [],
   "source": [
    "b = np.ones((2, 3))\n",
    "ind = b[:, 0].nonzero()"
   ]
  },
  {
   "cell_type": "code",
   "execution_count": 25,
   "id": "89bcb934-7cf2-4fe7-ab31-8ef7ce806fee",
   "metadata": {},
   "outputs": [],
   "source": [
    "c = np.array([0.5, 0., 2])"
   ]
  },
  {
   "cell_type": "code",
   "execution_count": 26,
   "id": "d86e7652-888c-4500-9f58-f191623824eb",
   "metadata": {},
   "outputs": [],
   "source": [
    "c[c == 0] = 1"
   ]
  },
  {
   "cell_type": "code",
   "execution_count": 27,
   "id": "ba3f839b-e189-41b3-988b-9145d5f315ec",
   "metadata": {},
   "outputs": [
    {
     "data": {
      "text/plain": [
       "array([0.5, 1. , 2. ])"
      ]
     },
     "execution_count": 27,
     "metadata": {},
     "output_type": "execute_result"
    }
   ],
   "source": [
    "c"
   ]
  },
  {
   "cell_type": "code",
   "execution_count": 18,
   "id": "bbcf074a-8712-4b1f-84f6-e7c63fbf2509",
   "metadata": {},
   "outputs": [
    {
     "name": "stdout",
     "output_type": "stream",
     "text": [
      "1.0\n"
     ]
    }
   ],
   "source": [
    "print(b[0, 1].item())"
   ]
  },
  {
   "cell_type": "code",
   "execution_count": 13,
   "id": "4457c765-6858-4767-a362-84c3f69e0979",
   "metadata": {},
   "outputs": [],
   "source": [
    "from scipy.interpolate import interp1d"
   ]
  },
  {
   "cell_type": "code",
   "execution_count": 15,
   "id": "634c3d59-677b-4fac-bc64-46a9605d738a",
   "metadata": {},
   "outputs": [
    {
     "ename": "ValueError",
     "evalue": "A value in x_new is above the interpolation range.",
     "output_type": "error",
     "traceback": [
      "\u001b[0;31m---------------------------------------------------------------------------\u001b[0m",
      "\u001b[0;31mValueError\u001b[0m                                Traceback (most recent call last)",
      "\u001b[0;32m<ipython-input-15-a11703a6122c>\u001b[0m in \u001b[0;36m<module>\u001b[0;34m\u001b[0m\n\u001b[1;32m      1\u001b[0m \u001b[0mf\u001b[0m \u001b[0;34m=\u001b[0m \u001b[0minterp1d\u001b[0m\u001b[0;34m(\u001b[0m\u001b[0;34m[\u001b[0m\u001b[0;36m1\u001b[0m\u001b[0;34m,\u001b[0m \u001b[0;36m2\u001b[0m\u001b[0;34m]\u001b[0m\u001b[0;34m,\u001b[0m \u001b[0;34m[\u001b[0m\u001b[0;36m6\u001b[0m\u001b[0;34m,\u001b[0m \u001b[0;36m8\u001b[0m\u001b[0;34m]\u001b[0m\u001b[0;34m,\u001b[0m \u001b[0mkind\u001b[0m\u001b[0;34m=\u001b[0m\u001b[0;34m'nearest'\u001b[0m\u001b[0;34m)\u001b[0m\u001b[0;34m\u001b[0m\u001b[0;34m\u001b[0m\u001b[0m\n\u001b[0;32m----> 2\u001b[0;31m \u001b[0mprint\u001b[0m\u001b[0;34m(\u001b[0m\u001b[0mf\u001b[0m\u001b[0;34m(\u001b[0m\u001b[0;34m[\u001b[0m\u001b[0;36m1\u001b[0m\u001b[0;34m,\u001b[0m\u001b[0;36m2\u001b[0m\u001b[0;34m,\u001b[0m\u001b[0;36m3\u001b[0m\u001b[0;34m,\u001b[0m\u001b[0;36m4\u001b[0m\u001b[0;34m,\u001b[0m\u001b[0;36m5\u001b[0m\u001b[0;34m]\u001b[0m\u001b[0;34m)\u001b[0m\u001b[0;34m)\u001b[0m\u001b[0;34m\u001b[0m\u001b[0;34m\u001b[0m\u001b[0m\n\u001b[0m",
      "\u001b[0;32m/opt/conda/envs/Python3.7.5/lib/python3.7/site-packages/scipy/interpolate/polyint.py\u001b[0m in \u001b[0;36m__call__\u001b[0;34m(self, x)\u001b[0m\n\u001b[1;32m     77\u001b[0m         \"\"\"\n\u001b[1;32m     78\u001b[0m         \u001b[0mx\u001b[0m\u001b[0;34m,\u001b[0m \u001b[0mx_shape\u001b[0m \u001b[0;34m=\u001b[0m \u001b[0mself\u001b[0m\u001b[0;34m.\u001b[0m\u001b[0m_prepare_x\u001b[0m\u001b[0;34m(\u001b[0m\u001b[0mx\u001b[0m\u001b[0;34m)\u001b[0m\u001b[0;34m\u001b[0m\u001b[0;34m\u001b[0m\u001b[0m\n\u001b[0;32m---> 79\u001b[0;31m         \u001b[0my\u001b[0m \u001b[0;34m=\u001b[0m \u001b[0mself\u001b[0m\u001b[0;34m.\u001b[0m\u001b[0m_evaluate\u001b[0m\u001b[0;34m(\u001b[0m\u001b[0mx\u001b[0m\u001b[0;34m)\u001b[0m\u001b[0;34m\u001b[0m\u001b[0;34m\u001b[0m\u001b[0m\n\u001b[0m\u001b[1;32m     80\u001b[0m         \u001b[0;32mreturn\u001b[0m \u001b[0mself\u001b[0m\u001b[0;34m.\u001b[0m\u001b[0m_finish_y\u001b[0m\u001b[0;34m(\u001b[0m\u001b[0my\u001b[0m\u001b[0;34m,\u001b[0m \u001b[0mx_shape\u001b[0m\u001b[0;34m)\u001b[0m\u001b[0;34m\u001b[0m\u001b[0;34m\u001b[0m\u001b[0m\n\u001b[1;32m     81\u001b[0m \u001b[0;34m\u001b[0m\u001b[0m\n",
      "\u001b[0;32m/opt/conda/envs/Python3.7.5/lib/python3.7/site-packages/scipy/interpolate/interpolate.py\u001b[0m in \u001b[0;36m_evaluate\u001b[0;34m(self, x_new)\u001b[0m\n\u001b[1;32m    661\u001b[0m         \u001b[0my_new\u001b[0m \u001b[0;34m=\u001b[0m \u001b[0mself\u001b[0m\u001b[0;34m.\u001b[0m\u001b[0m_call\u001b[0m\u001b[0;34m(\u001b[0m\u001b[0mself\u001b[0m\u001b[0;34m,\u001b[0m \u001b[0mx_new\u001b[0m\u001b[0;34m)\u001b[0m\u001b[0;34m\u001b[0m\u001b[0;34m\u001b[0m\u001b[0m\n\u001b[1;32m    662\u001b[0m         \u001b[0;32mif\u001b[0m \u001b[0;32mnot\u001b[0m \u001b[0mself\u001b[0m\u001b[0;34m.\u001b[0m\u001b[0m_extrapolate\u001b[0m\u001b[0;34m:\u001b[0m\u001b[0;34m\u001b[0m\u001b[0;34m\u001b[0m\u001b[0m\n\u001b[0;32m--> 663\u001b[0;31m             \u001b[0mbelow_bounds\u001b[0m\u001b[0;34m,\u001b[0m \u001b[0mabove_bounds\u001b[0m \u001b[0;34m=\u001b[0m \u001b[0mself\u001b[0m\u001b[0;34m.\u001b[0m\u001b[0m_check_bounds\u001b[0m\u001b[0;34m(\u001b[0m\u001b[0mx_new\u001b[0m\u001b[0;34m)\u001b[0m\u001b[0;34m\u001b[0m\u001b[0;34m\u001b[0m\u001b[0m\n\u001b[0m\u001b[1;32m    664\u001b[0m             \u001b[0;32mif\u001b[0m \u001b[0mlen\u001b[0m\u001b[0;34m(\u001b[0m\u001b[0my_new\u001b[0m\u001b[0;34m)\u001b[0m \u001b[0;34m>\u001b[0m \u001b[0;36m0\u001b[0m\u001b[0;34m:\u001b[0m\u001b[0;34m\u001b[0m\u001b[0;34m\u001b[0m\u001b[0m\n\u001b[1;32m    665\u001b[0m                 \u001b[0;31m# Note fill_value must be broadcast up to the proper size\u001b[0m\u001b[0;34m\u001b[0m\u001b[0;34m\u001b[0m\u001b[0;34m\u001b[0m\u001b[0m\n",
      "\u001b[0;32m/opt/conda/envs/Python3.7.5/lib/python3.7/site-packages/scipy/interpolate/interpolate.py\u001b[0m in \u001b[0;36m_check_bounds\u001b[0;34m(self, x_new)\u001b[0m\n\u001b[1;32m    693\u001b[0m                              \"range.\")\n\u001b[1;32m    694\u001b[0m         \u001b[0;32mif\u001b[0m \u001b[0mself\u001b[0m\u001b[0;34m.\u001b[0m\u001b[0mbounds_error\u001b[0m \u001b[0;32mand\u001b[0m \u001b[0mabove_bounds\u001b[0m\u001b[0;34m.\u001b[0m\u001b[0many\u001b[0m\u001b[0;34m(\u001b[0m\u001b[0;34m)\u001b[0m\u001b[0;34m:\u001b[0m\u001b[0;34m\u001b[0m\u001b[0;34m\u001b[0m\u001b[0m\n\u001b[0;32m--> 695\u001b[0;31m             raise ValueError(\"A value in x_new is above the interpolation \"\n\u001b[0m\u001b[1;32m    696\u001b[0m                              \"range.\")\n\u001b[1;32m    697\u001b[0m \u001b[0;34m\u001b[0m\u001b[0m\n",
      "\u001b[0;31mValueError\u001b[0m: A value in x_new is above the interpolation range."
     ]
    }
   ],
   "source": [
    "f = interp1d([1, 2], [6, 8], kind='nearest')\n",
    "print(f([1,2,3,4,5]))"
   ]
  }
 ],
 "metadata": {
  "kernelspec": {
   "name": "python375jvsc74a57bd0c3c729f78cae07ccd97a8ec42a1bc433e81dc1b8977ee711aac5785a162094cd",
   "display_name": "Python 3.7.5 64-bit ('dyCauseEnv': conda)"
  },
  "language_info": {
   "codemirror_mode": {
    "name": "ipython",
    "version": 3
   },
   "file_extension": ".py",
   "mimetype": "text/x-python",
   "name": "python",
   "nbconvert_exporter": "python",
   "pygments_lexer": "ipython3",
   "version": "3.7.5"
  }
 },
 "nbformat": 4,
 "nbformat_minor": 5
}