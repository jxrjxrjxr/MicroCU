{
 "cells": [
  {
   "cell_type": "code",
   "execution_count": 2,
   "metadata": {
    "ExecuteTime": {
     "end_time": "2022-08-07T07:37:18.513139Z",
     "start_time": "2022-08-07T07:37:15.885637Z"
    }
   },
   "outputs": [],
   "source": [
    "from params.load_params import loadConfig, dumpConfig\n",
    "from data.load_data import loadData\n",
    "from data.mask_data import maskData, printMissingRate\n",
    "from data.fill_data import fillData\n",
    "from data.clip_data import clipData\n",
    "from algo.granger_causal import grangerCausal\n",
    "from algo.build_graph import buildGraph\n",
    "from algo.analyze_root import analyzeRootABC, analyzeRootDyCause\n",
    "from dutils.metric import displayRes\n",
    "from algo.rank_node import scoreNorm, printNode\n",
    "from methods.micro_ci import rcaMicroCI\n",
    "from methods.dy_cause import rcaDyCause\n",
    "from methods.monitor_rank import rcaMonitorRank\n",
    "from methods.cloud_ranger import rcaCloudRanger\n",
    "from dutils.expr_utils import createExpr, list2csv, saveMask, adjustRate, loadMask\n",
    "from dutils.loaddata import zeroFill\n",
    "import pandas as pd\n",
    "import numpy as np\n",
    "from tqdm import tqdm\n",
    "import os\n",
    "import time\n",
    "\n",
    "import warnings\n",
    "warnings.filterwarnings('ignore')"
   ]
  },
  {
   "cell_type": "code",
   "execution_count": 3,
   "metadata": {
    "ExecuteTime": {
     "end_time": "2022-08-07T07:37:20.764945Z",
     "start_time": "2022-08-07T07:37:20.667420Z"
    }
   },
   "outputs": [],
   "source": [
    "%reload_ext autoreload\n",
    "%autoreload 2"
   ]
  },
  {
   "cell_type": "code",
   "execution_count": 7,
   "metadata": {
    "ExecuteTime": {
     "end_time": "2022-08-07T08:11:17.700690Z",
     "start_time": "2022-08-07T08:11:17.644421Z"
    }
   },
   "outputs": [
    {
     "data": {
      "text/plain": [
       "'/workspace/code/MicroCU/results/MonitorRank-CloudRanger-DyCause+linear-DyCause+prla-DyCause+BPMF-MicroCI4:1-MicroCI3:1-MicroCI2:1-MicroCI1:1-MicroCI1:2-MicroCI1:3-20-0807.0750.0639'"
      ]
     },
     "execution_count": 7,
     "metadata": {},
     "output_type": "execute_result"
    }
   ],
   "source": [
    "exprDir"
   ]
  },
  {
   "cell_type": "code",
   "execution_count": 6,
   "metadata": {
    "ExecuteTime": {
     "end_time": "2022-08-07T08:11:12.117927Z",
     "start_time": "2022-08-07T07:50:35.828629Z"
    }
   },
   "outputs": [
    {
     "name": "stderr",
     "output_type": "stream",
     "text": [
      "\r",
      "  0%|          | 0/20 [00:00<?, ?it/s]"
     ]
    },
    {
     "name": "stdout",
     "output_type": "stream",
     "text": [
      "In granger causal mp\n"
     ]
    },
    {
     "name": "stderr",
     "output_type": "stream",
     "text": [
      "\n",
      "  5%|▌         | 1/20 [20:31<6:30:07, 1231.97s/it]\n"
     ]
    },
    {
     "ename": "KeyboardInterrupt",
     "evalue": "",
     "output_type": "error",
     "traceback": [
      "\u001b[0;31m---------------------------------------------------------------------------\u001b[0m",
      "\u001b[0;31mKeyboardInterrupt\u001b[0m                         Traceback (most recent call last)",
      "Input \u001b[0;32mIn [6]\u001b[0m, in \u001b[0;36m<cell line: 29>\u001b[0;34m()\u001b[0m\n\u001b[1;32m     51\u001b[0m \u001b[38;5;66;03m# DyCause+linear\u001b[39;00m\n\u001b[1;32m     52\u001b[0m config[\u001b[38;5;124m\"\u001b[39m\u001b[38;5;124mData params\u001b[39m\u001b[38;5;124m\"\u001b[39m][\u001b[38;5;124m\"\u001b[39m\u001b[38;5;124mzeroFillMethod\u001b[39m\u001b[38;5;124m\"\u001b[39m] \u001b[38;5;241m=\u001b[39m \u001b[38;5;124m\"\u001b[39m\u001b[38;5;124mlinear\u001b[39m\u001b[38;5;124m\"\u001b[39m\n\u001b[0;32m---> 53\u001b[0m mlDyCause, _ldInfo \u001b[38;5;241m=\u001b[39m \u001b[43mrcaDyCause\u001b[49m\u001b[43m(\u001b[49m\u001b[43mcData\u001b[49m\u001b[43m,\u001b[49m\u001b[43m \u001b[49m\u001b[43m_head\u001b[49m\u001b[43m,\u001b[49m\u001b[43m \u001b[49m\u001b[43mconfig\u001b[49m\u001b[43m)\u001b[49m\n\u001b[1;32m     54\u001b[0m \u001b[38;5;28;01mif\u001b[39;00m \u001b[38;5;129;01mnot\u001b[39;00m loop:\n\u001b[1;32m     55\u001b[0m     algoTime[methodName[methodNum]] \u001b[38;5;241m=\u001b[39m time\u001b[38;5;241m.\u001b[39mtime() \u001b[38;5;241m-\u001b[39m curTime\n",
      "File \u001b[0;32m/workspace/code/MicroCU/methods/dy_cause.py:13\u001b[0m, in \u001b[0;36mrcaDyCause\u001b[0;34m(cData, _head, config)\u001b[0m\n\u001b[1;32m     11\u001b[0m \u001b[38;5;28;01mdef\u001b[39;00m \u001b[38;5;21mrcaDyCause\u001b[39m(cData, _head, config):\n\u001b[1;32m     12\u001b[0m     fData \u001b[38;5;241m=\u001b[39m fillData(cData, config)\n\u001b[0;32m---> 13\u001b[0m     grangerRes \u001b[38;5;241m=\u001b[39m \u001b[43mgrangerCausalmp\u001b[49m\u001b[43m(\u001b[49m\u001b[43mfData\u001b[49m\u001b[43m,\u001b[49m\u001b[43m \u001b[49m\u001b[43m_head\u001b[49m\u001b[43m,\u001b[49m\u001b[43m \u001b[49m\u001b[43mconfig\u001b[49m\u001b[43m)\u001b[49m\n\u001b[1;32m     14\u001b[0m     matrix, peak \u001b[38;5;241m=\u001b[39m buildGraph(grangerRes, config)\n\u001b[1;32m     15\u001b[0m     nodesDyCause \u001b[38;5;241m=\u001b[39m analyzeRootDyCause(matrix, cData, config)\n",
      "File \u001b[0;32m/workspace/code/MicroCU/algo/granger_causal.py:111\u001b[0m, in \u001b[0;36mgrangerCausalmp\u001b[0;34m(data, data_head, config)\u001b[0m\n\u001b[1;32m    103\u001b[0m             \u001b[38;5;28;01mcontinue\u001b[39;00m\n\u001b[1;32m    104\u001b[0m         futures\u001b[38;5;241m.\u001b[39mappend(executor\u001b[38;5;241m.\u001b[39msubmit(\n\u001b[1;32m    105\u001b[0m             granger_process,\n\u001b[1;32m    106\u001b[0m             shared_params_dict,\n\u001b[0;32m   (...)\u001b[0m\n\u001b[1;32m    109\u001b[0m             )\n\u001b[1;32m    110\u001b[0m         )\n\u001b[0;32m--> 111\u001b[0m \u001b[38;5;28;01mfor\u001b[39;00m future \u001b[38;5;129;01min\u001b[39;00m as_completed(futures):\n\u001b[1;32m    112\u001b[0m     pbar\u001b[38;5;241m.\u001b[39mupdate(\u001b[38;5;241m1\u001b[39m)\n\u001b[1;32m    113\u001b[0m pbar\u001b[38;5;241m.\u001b[39mclose()\n",
      "File \u001b[0;32m/opt/conda/envs/tsai/lib/python3.8/concurrent/futures/_base.py:244\u001b[0m, in \u001b[0;36mas_completed\u001b[0;34m(fs, timeout)\u001b[0m\n\u001b[1;32m    239\u001b[0m     \u001b[38;5;28;01mif\u001b[39;00m wait_timeout \u001b[38;5;241m<\u001b[39m \u001b[38;5;241m0\u001b[39m:\n\u001b[1;32m    240\u001b[0m         \u001b[38;5;28;01mraise\u001b[39;00m \u001b[38;5;167;01mTimeoutError\u001b[39;00m(\n\u001b[1;32m    241\u001b[0m                 \u001b[38;5;124m'\u001b[39m\u001b[38;5;132;01m%d\u001b[39;00m\u001b[38;5;124m (of \u001b[39m\u001b[38;5;132;01m%d\u001b[39;00m\u001b[38;5;124m) futures unfinished\u001b[39m\u001b[38;5;124m'\u001b[39m \u001b[38;5;241m%\u001b[39m (\n\u001b[1;32m    242\u001b[0m                 \u001b[38;5;28mlen\u001b[39m(pending), total_futures))\n\u001b[0;32m--> 244\u001b[0m \u001b[43mwaiter\u001b[49m\u001b[38;5;241;43m.\u001b[39;49m\u001b[43mevent\u001b[49m\u001b[38;5;241;43m.\u001b[39;49m\u001b[43mwait\u001b[49m\u001b[43m(\u001b[49m\u001b[43mwait_timeout\u001b[49m\u001b[43m)\u001b[49m\n\u001b[1;32m    246\u001b[0m \u001b[38;5;28;01mwith\u001b[39;00m waiter\u001b[38;5;241m.\u001b[39mlock:\n\u001b[1;32m    247\u001b[0m     finished \u001b[38;5;241m=\u001b[39m waiter\u001b[38;5;241m.\u001b[39mfinished_futures\n",
      "File \u001b[0;32m/opt/conda/envs/tsai/lib/python3.8/threading.py:558\u001b[0m, in \u001b[0;36mEvent.wait\u001b[0;34m(self, timeout)\u001b[0m\n\u001b[1;32m    556\u001b[0m signaled \u001b[38;5;241m=\u001b[39m \u001b[38;5;28mself\u001b[39m\u001b[38;5;241m.\u001b[39m_flag\n\u001b[1;32m    557\u001b[0m \u001b[38;5;28;01mif\u001b[39;00m \u001b[38;5;129;01mnot\u001b[39;00m signaled:\n\u001b[0;32m--> 558\u001b[0m     signaled \u001b[38;5;241m=\u001b[39m \u001b[38;5;28;43mself\u001b[39;49m\u001b[38;5;241;43m.\u001b[39;49m\u001b[43m_cond\u001b[49m\u001b[38;5;241;43m.\u001b[39;49m\u001b[43mwait\u001b[49m\u001b[43m(\u001b[49m\u001b[43mtimeout\u001b[49m\u001b[43m)\u001b[49m\n\u001b[1;32m    559\u001b[0m \u001b[38;5;28;01mreturn\u001b[39;00m signaled\n",
      "File \u001b[0;32m/opt/conda/envs/tsai/lib/python3.8/threading.py:302\u001b[0m, in \u001b[0;36mCondition.wait\u001b[0;34m(self, timeout)\u001b[0m\n\u001b[1;32m    300\u001b[0m \u001b[38;5;28;01mtry\u001b[39;00m:    \u001b[38;5;66;03m# restore state no matter what (e.g., KeyboardInterrupt)\u001b[39;00m\n\u001b[1;32m    301\u001b[0m     \u001b[38;5;28;01mif\u001b[39;00m timeout \u001b[38;5;129;01mis\u001b[39;00m \u001b[38;5;28;01mNone\u001b[39;00m:\n\u001b[0;32m--> 302\u001b[0m         \u001b[43mwaiter\u001b[49m\u001b[38;5;241;43m.\u001b[39;49m\u001b[43macquire\u001b[49m\u001b[43m(\u001b[49m\u001b[43m)\u001b[49m\n\u001b[1;32m    303\u001b[0m         gotit \u001b[38;5;241m=\u001b[39m \u001b[38;5;28;01mTrue\u001b[39;00m\n\u001b[1;32m    304\u001b[0m     \u001b[38;5;28;01melse\u001b[39;00m:\n",
      "\u001b[0;31mKeyboardInterrupt\u001b[0m: "
     ]
    }
   ],
   "source": [
    "times = 20\n",
    "saveRes = True\n",
    "deprecate = [0, 8, 16]\n",
    "methodName = ['MonitorRank',\n",
    "              'CloudRanger',\n",
    "              'DyCause+linear',\n",
    "              'DyCause+prla',\n",
    "              'DyCause+BPMF',\n",
    "              'MicroCI4:1',\n",
    "              'MicroCI3:1',\n",
    "              'MicroCI2:1',\n",
    "              'MicroCI1:1',\n",
    "              'MicroCI1:2',\n",
    "              'MicroCI1:3']\n",
    "config = loadConfig()\n",
    "rData, _head = loadData(config)\n",
    "\n",
    "exprDir, results = createExpr(methodName, times, saveRes=saveRes)\n",
    "tempDir = os.path.join(\".\", \"results\", \"tempExpr\")\n",
    "maskDir = os.path.join(\".\", \"data\", \"maskData-{}\".format(config[\"Data params\"][\"sample_rate\"]))\n",
    "\n",
    "if saveRes:\n",
    "    dumpConfig(config, exprDir)\n",
    "else:\n",
    "    dumpConfig(config, tempDir)\n",
    "# rData, _head = loadData(config)\n",
    "algoTime = {}\n",
    "\n",
    "for loop in tqdm(range(times)):\n",
    "    if loop in deprecate:\n",
    "        continue\n",
    "    methodNum = 0\n",
    "#     mData, _mask = maskData(rData, config)\n",
    "#     if saveRes:\n",
    "#         saveMask(_mask, exprDir, loop)\n",
    "    mData = loadMask(maskDir, loop)\n",
    "    cData, _cMask = clipData(mData, config)\n",
    "    curTime = time.time()\n",
    "    # MonitorRank\n",
    "    mMR, _mrInfo = rcaMonitorRank(cData, _head, config)\n",
    "    if not loop:\n",
    "        algoTime[methodName[methodNum]] = time.time() - curTime\n",
    "        curTime = time.time()\n",
    "        methodNum += 1\n",
    "    # CloudRanger\n",
    "    mCR, _crInfo = rcaMonitorRank(cData, _head, config)\n",
    "    if not loop:\n",
    "        algoTime[methodName[methodNum]] = time.time() - curTime\n",
    "        curTime = time.time()\n",
    "        methodNum += 1\n",
    "    # DyCause+linear\n",
    "    config[\"Data params\"][\"zeroFillMethod\"] = \"linear\"\n",
    "    mlDyCause, _ldInfo = rcaDyCause(cData, _head, config)\n",
    "    if not loop:\n",
    "        algoTime[methodName[methodNum]] = time.time() - curTime\n",
    "        curTime = time.time()\n",
    "        methodNum += 1\n",
    "    # DyCause+prla\n",
    "    config[\"Data params\"][\"zeroFillMethod\"] = \"prevlatter\"\n",
    "    mDyCause, _dInfo = rcaDyCause(cData, _head, config)\n",
    "    if not loop:\n",
    "        algoTime[methodName[methodNum]] = time.time() - curTime\n",
    "        curTime = time.time()\n",
    "        methodNum += 1\n",
    "    # DyCause+BPMF\n",
    "    config[\"Data params\"][\"zeroFillMethod\"] = \"BPMF\"\n",
    "    mpDyCause, _pdInfo = rcaDyCause(cData, _head, config)\n",
    "    if not loop:\n",
    "        algoTime[methodName[methodNum]] = time.time() - curTime\n",
    "        curTime = time.time()\n",
    "        methodNum += 1\n",
    "    # MicroCI4:1\n",
    "    config[\"Data params\"][\"zeroFillMethod\"] = \"prevlatter\"\n",
    "    config[\"rw params\"][\"rate\"] = 4\n",
    "    m41MicroCI, _mInfo = rcaMicroCI(cData, _head, config)\n",
    "    if not loop:\n",
    "        algoTime[methodName[methodNum]] = time.time() - curTime\n",
    "        curTime = time.time()\n",
    "        methodNum += 1\n",
    "    # MicroCI3:1\n",
    "    config[\"rw params\"][\"rate\"] = 3\n",
    "    m31MicroCI = adjustRate(_mInfo[0], config)\n",
    "    # MicroCI2:1\n",
    "    config[\"rw params\"][\"rate\"] = 2\n",
    "    m21MicroCI = adjustRate(_mInfo[0], config)\n",
    "    # MicroCI1:1\n",
    "    config[\"rw params\"][\"rate\"] = 1\n",
    "    m11MicroCI = adjustRate(_mInfo[0], config)\n",
    "    # MicroCI1:2\n",
    "    config[\"rw params\"][\"rate\"] = 0.5\n",
    "    m12MicroCI = adjustRate(_mInfo[0], config)\n",
    "    # MicroCI1:3\n",
    "    config[\"rw params\"][\"rate\"] = 0.3333\n",
    "    m13MicroCI = adjustRate(_mInfo[0], config)\n",
    "    \n",
    "    curRes = list2csv([mMR,\n",
    "                       mCR,\n",
    "                       mlDyCause,\n",
    "                       mDyCause,\n",
    "                       mpDyCause,\n",
    "                       m41MicroCI,\n",
    "                       m31MicroCI,\n",
    "                       m21MicroCI,\n",
    "                       m11MicroCI,\n",
    "                       m12MicroCI,\n",
    "                       m13MicroCI])\n",
    "    if saveRes:\n",
    "        curRes.to_csv(os.path.join(exprDir, 'res{:02d}.csv'.format(loop)))\n",
    "    else:\n",
    "        curRes.to_csv(os.path.join(tempDir, 'res{:02d}.csv'.format(loop)))\n",
    "    results = pd.DataFrame(curRes.values + results.values, columns=results.columns, index=results.index)\n",
    "    phase_res = results / (loop + 1)\n",
    "    if saveRes:\n",
    "        phase_res.to_csv(os.path.join(exprDir, 'results.csv'))\n",
    "    else:\n",
    "        phase_res.to_csv(os.path.join(tempDir, 'results.csv'))\n",
    "    if not loop:\n",
    "        for key in algoTime:\n",
    "            print(\"{} : {:.3f}s\".format(key, algoTime[key]))"
   ]
  }
 ],
 "metadata": {
  "kernelspec": {
   "display_name": "Python [conda env:tsai]",
   "language": "python",
   "name": "tsai"
  },
  "language_info": {
   "codemirror_mode": {
    "name": "ipython",
    "version": 3
   },
   "file_extension": ".py",
   "mimetype": "text/x-python",
   "name": "python",
   "nbconvert_exporter": "python",
   "pygments_lexer": "ipython3",
   "version": "3.8.13"
  },
  "toc": {
   "base_numbering": 1,
   "nav_menu": {},
   "number_sections": false,
   "sideBar": true,
   "skip_h1_title": false,
   "title_cell": "Table of Contents",
   "title_sidebar": "Contents",
   "toc_cell": false,
   "toc_position": {},
   "toc_section_display": true,
   "toc_window_display": false
  },
  "varInspector": {
   "cols": {
    "lenName": 16,
    "lenType": 16,
    "lenVar": 40
   },
   "kernels_config": {
    "python": {
     "delete_cmd_postfix": "",
     "delete_cmd_prefix": "del ",
     "library": "var_list.py",
     "varRefreshCmd": "print(var_dic_list())"
    },
    "r": {
     "delete_cmd_postfix": ") ",
     "delete_cmd_prefix": "rm(",
     "library": "var_list.r",
     "varRefreshCmd": "cat(var_dic_list()) "
    }
   },
   "types_to_exclude": [
    "module",
    "function",
    "builtin_function_or_method",
    "instance",
    "_Feature"
   ],
   "window_display": false
  }
 },
 "nbformat": 4,
 "nbformat_minor": 4
}
